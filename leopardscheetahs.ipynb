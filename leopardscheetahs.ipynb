{
 "cells": [
  {
   "cell_type": "markdown",
   "metadata": {},
   "source": [
    "## Leopard/cheetah classifier"
   ]
  },
  {
   "cell_type": "code",
   "execution_count": 1,
   "metadata": {},
   "outputs": [],
   "source": [
    "# Put these at the top of every notebook, to get automatic reloading and inline plotting\n",
    "%reload_ext autoreload\n",
    "%autoreload 2\n",
    "%matplotlib inline"
   ]
  },
  {
   "cell_type": "code",
   "execution_count": null,
   "metadata": {},
   "outputs": [],
   "source": [
    "# Unzip the 'leopardscheetahs.zip' file and create 'leopardscheetahs' folder inside 'data'\n",
    "import zipfile\n",
    "zip_ref = zipfile.ZipFile('data/leopardsvscheetahs.zip', 'r')\n",
    "zip_ref.extractall('data')\n",
    "zip_ref.close()"
   ]
  },
  {
   "cell_type": "code",
   "execution_count": 2,
   "metadata": {},
   "outputs": [],
   "source": [
    "# This file contains all the main external libs we'll use\n",
    "from fastai.imports import *\n",
    "\n",
    "from fastai.transforms import *\n",
    "from fastai.conv_learner import *\n",
    "from fastai.model import *\n",
    "from fastai.dataset import *\n",
    "from fastai.sgdr import *\n",
    "from fastai.plots import *\n",
    "\n",
    "# Set the path to our new dataset folder\n",
    "PATH = \"data/leopardscheetahs/\"\n",
    "sz=299\n",
    "# Changing from resnext50 to resnet34 (for speed and as our dataset is small)\n",
    "arch=resnet34\n",
    "bs=28"
   ]
  },
  {
   "cell_type": "code",
   "execution_count": 3,
   "metadata": {
    "scrolled": true
   },
   "outputs": [],
   "source": [
    "tfms = tfms_from_model(arch, sz, aug_tfms=transforms_side_on, max_zoom=1.1)\n",
    "data = ImageClassifierData.from_paths(PATH, tfms=tfms, bs=bs, num_workers=4)\n",
    "# Removing specified dropout and setting precompute=False to use transformations from first run\n",
    "learn = ConvLearner.pretrained(arch, data, precompute=False)"
   ]
  },
  {
   "cell_type": "code",
   "execution_count": 4,
   "metadata": {
    "scrolled": true
   },
   "outputs": [
    {
     "data": {
      "application/vnd.jupyter.widget-view+json": {
       "model_id": "1ab8e61e25e747ffaac5c37f37a557f4",
       "version_major": 2,
       "version_minor": 0
      },
      "text/plain": [
       "HBox(children=(IntProgress(value=0, description='Epoch', max=5), HTML(value='')))"
      ]
     },
     "metadata": {},
     "output_type": "display_data"
    },
    {
     "name": "stdout",
     "output_type": "stream",
     "text": [
      "epoch      trn_loss   val_loss   accuracy                  \n",
      "    0      0.336976   0.103539   0.958333  \n",
      "    1      0.193158   0.049159   0.979167                  \n",
      "    2      0.145296   0.034021   0.989583                  \n",
      "    3      0.147499   0.033765   0.989583                  \n",
      "    4      0.127833   0.032639   0.989583                  \n",
      "\n"
     ]
    },
    {
     "data": {
      "text/plain": [
       "[array([0.03264]), 0.989583338300387]"
      ]
     },
     "execution_count": 4,
     "metadata": {},
     "output_type": "execute_result"
    }
   ],
   "source": [
    "learn.fit(1e-2, 5, cycle_len=1)"
   ]
  },
  {
   "cell_type": "code",
   "execution_count": 5,
   "metadata": {},
   "outputs": [],
   "source": [
    "learn.unfreeze()\n",
    "lr=np.array([1e-4,1e-3,1e-2])"
   ]
  },
  {
   "cell_type": "code",
   "execution_count": 6,
   "metadata": {
    "scrolled": true
   },
   "outputs": [
    {
     "data": {
      "application/vnd.jupyter.widget-view+json": {
       "model_id": "663eaba02738401a88d85d1e53d637ad",
       "version_major": 2,
       "version_minor": 0
      },
      "text/plain": [
       "HBox(children=(IntProgress(value=0, description='Epoch', max=31), HTML(value='')))"
      ]
     },
     "metadata": {},
     "output_type": "display_data"
    },
    {
     "name": "stdout",
     "output_type": "stream",
     "text": [
      "epoch      trn_loss   val_loss   accuracy                  \n",
      "    0      0.155322   0.045405   0.979167  \n",
      "    1      0.125888   0.024827   0.989583                  \n",
      "    2      0.114288   0.026053   1.0                       \n",
      "    3      0.094701   0.020593   1.0                        \n",
      "    4      0.069818   0.022256   0.989583                   \n",
      "    5      0.069692   0.019122   1.0                        \n",
      "    6      0.053622   0.019247   1.0                        \n",
      "    7      0.054298   0.028982   0.989583                   \n",
      "    8      0.05562    0.016269   0.989583                   \n",
      "    9      0.048498   0.015153   0.989583                   \n",
      "    10     0.034446   0.011166   1.0                        \n",
      "    11     0.03034    0.009636   1.0                        \n",
      "    12     0.029681   0.010749   1.0                        \n",
      "    13     0.036256   0.009135   1.0                        \n",
      "    14     0.035397   0.006811   1.0                        \n",
      "    15     0.031494   0.01444    0.989583                   \n",
      "    16     0.040833   0.008301   1.0                        \n",
      "    17     0.036174   0.014141   1.0                        \n",
      "    18     0.032362   0.01475    1.0                        \n",
      "    19     0.027068   0.015749   1.0                        \n",
      "    20     0.032683   0.017926   0.989583                   \n",
      "    21     0.03091    0.008289   1.0                        \n",
      "    22     0.027785   0.009528   1.0                        \n",
      "    23     0.021992   0.018134   0.989583                   \n",
      "    24     0.023473   0.006135   1.0                        \n",
      "    25     0.018843   0.007784   1.0                        \n",
      "    26     0.021511   0.006061   1.0                        \n",
      "    27     0.024931   0.006268   1.0                        \n",
      "    28     0.025789   0.006851   1.0                        \n",
      "    29     0.022481   0.007442   1.0                        \n",
      "    30     0.018883   0.00983    1.0                        \n",
      "\n"
     ]
    },
    {
     "data": {
      "text/plain": [
       "[array([0.00983]), 1.0]"
      ]
     },
     "execution_count": 6,
     "metadata": {},
     "output_type": "execute_result"
    }
   ],
   "source": [
    "learn.fit(lr, 5, cycle_len=1, cycle_mult=2)"
   ]
  },
  {
   "cell_type": "code",
   "execution_count": 7,
   "metadata": {},
   "outputs": [
    {
     "data": {
      "image/png": "[encoded data removed]",
      "text/plain": [
       "<Figure size 432x288 with 1 Axes>"
      ]
     },
     "metadata": {},
     "output_type": "display_data"
    }
   ],
   "source": [
    "learn.sched.plot_loss()"
   ]
  },
  {
   "cell_type": "code",
   "execution_count": 14,
   "metadata": {},
   "outputs": [],
   "source": [
    "# Setting our model to CPU mode, as we're going to be running inference on AWS Lambda.\n",
    "learn.model.cpu()\n",
    "# Saving our model to \"courses/dl1/data/leopardscheetahs/models/leopardscheetahs.h5\"\n",
    "learn.save('leopardscheetahs')"
   ]
  }
 ],
 "metadata": {
  "kernelspec": {
   "display_name": "Python 3",
   "language": "python",
   "name": "python3"
  },
  "language_info": {
   "codemirror_mode": {
    "name": "ipython",
    "version": 3
   },
   "file_extension": ".py",
   "mimetype": "text/x-python",
   "name": "python",
   "nbconvert_exporter": "python",
   "pygments_lexer": "ipython3",
   "version": "3.6.5"
  },
  "toc": {
   "colors": {
    "hover_highlight": "#DAA520",
    "navigate_num": "#000000",
    "navigate_text": "#333333",
    "running_highlight": "#FF0000",
    "selected_highlight": "#FFD700",
    "sidebar_border": "#EEEEEE",
    "wrapper_background": "#FFFFFF"
   },
   "moveMenuLeft": true,
   "nav_menu": {
    "height": "266px",
    "width": "252px"
   },
   "navigate_menu": true,
   "number_sections": true,
   "sideBar": true,
   "threshold": 4,
   "toc_cell": false,
   "toc_section_display": "block",
   "toc_window_display": false,
   "widenNotebook": false
  }
 },
 "nbformat": 4,
 "nbformat_minor": 2
}
